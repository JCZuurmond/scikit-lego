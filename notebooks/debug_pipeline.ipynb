{
 "cells": [
  {
   "cell_type": "code",
   "execution_count": null,
   "metadata": {},
   "outputs": [],
   "source": [
    "%load_ext autoreload\n",
    "%autoreload 2"
   ]
  },
  {
   "cell_type": "markdown",
   "metadata": {},
   "source": [
    "# Debug pipeline\n",
    "\n",
    "A pipeline that has a log statement in between each step, useful for debugging a pipeline."
   ]
  },
  {
   "cell_type": "code",
   "execution_count": null,
   "metadata": {},
   "outputs": [],
   "source": [
    "import numpy as np\n",
    "import pandas as pd\n",
    "\n",
    "from sklearn.base import BaseEstimator, TransformerMixin\n",
    "from sklearn.pipeline import FeatureUnion\n",
    "\n",
    "from sklego.pipeline import DebugPipeline, example_log_message_callback"
   ]
  },
  {
   "cell_type": "code",
   "execution_count": null,
   "metadata": {},
   "outputs": [],
   "source": [
    "# DebugPipeline set-up\n",
    "n_samples, n_features = 3, 5\n",
    "X = np.zeros((n_samples, n_features))\n",
    "y = np.arange(n_samples)\n",
    "\n",
    "\n",
    "class Adder(TransformerMixin, BaseEstimator):\n",
    "    def __init__(self, value):\n",
    "        self._value = value\n",
    "        \n",
    "    def fit(self, X, y=None):\n",
    "        return self\n",
    "\n",
    "    def transform(self, X):\n",
    "        return X + self._value\n",
    "    \n",
    "    def __repr__(self):\n",
    "        return f'Adder(value={self._value})'\n",
    "    \n",
    "    \n",
    "steps = [\n",
    "    ('add_1', Adder(value=1)),\n",
    "    ('add_10', Adder(value=10)),\n",
    "    ('add_100', Adder(value=100)),\n",
    "    ('add_1000', Adder(value=1000)),\n",
    "]"
   ]
  },
  {
   "cell_type": "markdown",
   "metadata": {},
   "source": [
    "## Same as sklearn pipeline.\n",
    "\n",
    "This pipeline behaves exactly the same as a normal pipeline."
   ]
  },
  {
   "cell_type": "code",
   "execution_count": null,
   "metadata": {},
   "outputs": [],
   "source": [
    "pipe = DebugPipeline(steps)\n",
    "\n",
    "pipe.fit(X, y=y)\n",
    "X_out = pipe.transform(X)\n",
    "\n",
    "print('Transformed X:\\n', X_out)"
   ]
  },
  {
   "cell_type": "markdown",
   "metadata": {},
   "source": [
    "## Sklearn pipeline has a verbose option:"
   ]
  },
  {
   "cell_type": "code",
   "execution_count": null,
   "metadata": {},
   "outputs": [],
   "source": [
    "pipe = DebugPipeline(steps, verbose=True)\n",
    "\n",
    "pipe.fit(X, y=y)\n",
    "X_out = pipe.transform(X)\n",
    "\n",
    "print('Transformed X:\\n', X_out)"
   ]
  },
  {
   "cell_type": "markdown",
   "metadata": {},
   "source": [
    "## Log message callback\n",
    "\n",
    "In the `DebugPipeline` it is possible to set a `log_message_callback` variable that logs in between each step.\n",
    "\n",
    "_Note: there are __three__ log statements while there are __four__ steps, because there are __three__ moments __in between__ the steps. The output can be checked outside of the pipeline._"
   ]
  },
  {
   "cell_type": "code",
   "execution_count": null,
   "metadata": {},
   "outputs": [],
   "source": [
    "pipe = DebugPipeline(steps, log_message_callback=example_log_message_callback)\n",
    "\n",
    "pipe.fit(X, y=y)\n",
    "X_out = pipe.transform(X)\n",
    "\n",
    "print('Transformed X:\\n', X_out)"
   ]
  },
  {
   "cell_type": "markdown",
   "metadata": {},
   "source": [
    "## Set the `log_message_callback` function later\n",
    "\n",
    "It is possible to set the `log_message_callback` later then initialisation. "
   ]
  },
  {
   "cell_type": "code",
   "execution_count": null,
   "metadata": {},
   "outputs": [],
   "source": [
    "pipe = DebugPipeline(steps)\n",
    "pipe.log_message_callback = example_log_message_callback\n",
    "\n",
    "pipe.fit(X, y=y)\n",
    "X_out = pipe.transform(X)\n",
    "\n",
    "print('Transformed X:\\n', X_out)"
   ]
  },
  {
   "cell_type": "markdown",
   "metadata": {},
   "source": [
    "## Custom `log_message_callback`\n",
    "\n",
    "The custom log callback function expect the output of each step, which is an tuple containing the output of the step and the step itself, and the execution time of the step."
   ]
  },
  {
   "cell_type": "code",
   "execution_count": null,
   "metadata": {},
   "outputs": [],
   "source": [
    "def custom_log_message_callback(transformer, X=None, y=None):\n",
    "    \"\"\"\n",
    "    My custom `log_message_callback` function.\n",
    "    \n",
    "    Parameters\n",
    "    ----------\n",
    "    output : tuple(\n",
    "            numpy.ndarray or pandas.DataFrame\n",
    "            :class:estimator or :class:transformer\n",
    "        )\n",
    "        The output of the step and a step in the pipeline.\n",
    "    execution_time : float\n",
    "        The execution time of the step.\n",
    "    \"\"\"    \n",
    "    _ = y\n",
    "    msg = f'[{transformer}]'\n",
    "    if X is not None:\n",
    "        msg += f' shape={X.shape} nbytes={X.nbytes}'\n",
    "    return msg\n",
    "\n",
    "    \n",
    "pipe.log_message_callback = custom_log_message_callback\n",
    "\n",
    "pipe.fit(X, y=y)\n",
    "X_out = pipe.transform(X)\n",
    "\n",
    "print('Transformed X:\\n', X_out)"
   ]
  },
  {
   "cell_type": "markdown",
   "metadata": {},
   "source": [
    "# Feature union\n",
    "\n",
    "Feature union also works with the debug pipeline."
   ]
  },
  {
   "cell_type": "code",
   "execution_count": null,
   "metadata": {},
   "outputs": [],
   "source": [
    "pipe_w_default_log_callback = DebugPipeline(steps, log_message_callback=example_log_message_callback)\n",
    "pipe_w_custom_log_callback = DebugPipeline(steps, log_message_callback=custom_log_message_callback)\n",
    "\n",
    "pipe_union = FeatureUnion([\n",
    "    ('pipe_w_default_log_callback', pipe_w_default_log_callback),\n",
    "    ('pipe_w_custom_log_callback', pipe_w_custom_log_callback),\n",
    "])\n",
    "\n",
    "pipe_union.fit(X, y=y)\n",
    "X_out = pipe_union.transform(X)\n",
    "\n",
    "print('Transformed X:\\n', X_out)"
   ]
  },
  {
   "cell_type": "markdown",
   "metadata": {},
   "source": [
    "## Enough logging\n",
    "\n",
    "Remove the `log_callback` function when not needed anymore."
   ]
  },
  {
   "cell_type": "code",
   "execution_count": null,
   "metadata": {},
   "outputs": [],
   "source": [
    "pipe.log_message_callback = None\n",
    "\n",
    "pipe.fit(X, y=y)\n",
    "X_out = pipe.transform(X)\n",
    "\n",
    "print('Transformed X:\\n', X_out)"
   ]
  }
 ],
 "metadata": {
  "kernelspec": {
   "display_name": "Python 3",
   "language": "python",
   "name": "python3"
  },
  "language_info": {
   "codemirror_mode": {
    "name": "ipython",
    "version": 3
   },
   "file_extension": ".py",
   "mimetype": "text/x-python",
   "name": "python",
   "nbconvert_exporter": "python",
   "pygments_lexer": "ipython3",
   "version": "3.6.5"
  }
 },
 "nbformat": 4,
 "nbformat_minor": 2
}
